{
 "cells": [
  {
   "cell_type": "code",
   "execution_count": 1,
   "id": "2c968c35",
   "metadata": {},
   "outputs": [],
   "source": [
    "import pandas as pd\n",
    "import numpy as np\n",
    "import matplotlib.pyplot as plt\n",
    "import optuna "
   ]
  },
  {
   "cell_type": "code",
   "execution_count": 2,
   "id": "2fdd1d36",
   "metadata": {},
   "outputs": [],
   "source": [
    "import optuna\n",
    "import numpy as np\n",
    "import pandas as pd\n",
    "from sklearn.model_selection import cross_val_score, KFold\n",
    "from sklearn.svm import SVR\n",
    "from sklearn.preprocessing import StandardScaler\n",
    "from sklearn.model_selection import train_test_split\n",
    "from sklearn.metrics import root_mean_squared_error\n",
    "from sklearn.metrics import r2_score"
   ]
  },
  {
   "cell_type": "code",
   "execution_count": 4,
   "id": "211d8688",
   "metadata": {},
   "outputs": [
    {
     "data": {
      "text/plain": [
       "Index(['RFDI', 'DPDD', 'DpRVIVV', 'VH', 'VV', 'B11', 'B11_contrast',\n",
       "       'B11_corr', 'B11_diss', 'B11_ent', 'B11_var', 'B12', 'B2', 'B3', 'B4',\n",
       "       'B8', 'EVI', 'GCI', 'MSAVI', 'NDMI', 'NDVI', 'SAVI', 'Slope',\n",
       "       'elevation', 'N_efectivo_estratos', 'lon', 'lat', 'DpRVIHH', 'HH', 'HV',\n",
       "       'HV_contrast', 'HV_corr', 'HV_diss', 'HV_ent', 'HV_var'],\n",
       "      dtype='object')"
      ]
     },
     "execution_count": 4,
     "metadata": {},
     "output_type": "execute_result"
    }
   ],
   "source": [
    "df_gedi = pd.read_csv(\"DATA/df_union_gedi.csv\").dropna()\n",
    "df_gedi.columns"
   ]
  },
  {
   "cell_type": "code",
   "execution_count": 21,
   "id": "1ff5ee90",
   "metadata": {},
   "outputs": [
    {
     "data": {
      "text/plain": [
       "(4259, 35)"
      ]
     },
     "execution_count": 21,
     "metadata": {},
     "output_type": "execute_result"
    }
   ],
   "source": [
    "df_gedi.shape"
   ]
  },
  {
   "cell_type": "code",
   "execution_count": 51,
   "id": "68e43162",
   "metadata": {},
   "outputs": [],
   "source": [
    "variables_predictoras =['B11', \"B12\", \"lat\", \"lon\", \"GCI\", \"B4\", \"elevation\"] \n",
    "\n",
    "variable_objetivo =  'N_efectivo_estratos'\n",
    "X = np.array(df_gedi[variables_predictoras] )\n",
    "Y = np.array(df_gedi[variable_objetivo] )\n",
    "# 2️⃣ Divide los datos en entrenamiento (80%) y prueba (20%)\n",
    "X_train, X_test, Y_train, Y_test = train_test_split(X, Y, test_size=0.20, random_state=593)"
   ]
  },
  {
   "cell_type": "code",
   "execution_count": 52,
   "id": "c080c8bc",
   "metadata": {},
   "outputs": [],
   "source": [
    "import optuna\n",
    "import numpy as np\n",
    "import pandas as pd\n",
    "from sklearn.model_selection import cross_val_score, KFold\n",
    "from sklearn.ensemble import RandomForestRegressor\n",
    "from sklearn.metrics import mean_absolute_percentage_error"
   ]
  },
  {
   "cell_type": "code",
   "execution_count": 53,
   "id": "5bea075e",
   "metadata": {},
   "outputs": [
    {
     "name": "stderr",
     "output_type": "stream",
     "text": [
      "[I 2025-05-20 01:14:29,852] A new study created in memory with name: no-name-3020870d-0188-47d5-bac6-f83157cf89e8\n"
     ]
    }
   ],
   "source": [
    "# Crear la \"study\" para realizar la optimización bayesiana\n",
    "from optuna.samplers import TPESampler\n",
    "sampler = TPESampler(seed=593)\n",
    "\n",
    "study_rf1 = optuna.create_study(direction='minimize', sampler = sampler)  # Queremos minimizar el RMSE"
   ]
  },
  {
   "cell_type": "code",
   "execution_count": 54,
   "id": "8fa817c7",
   "metadata": {},
   "outputs": [],
   "source": [
    "def kling_gupta_efficiency(y_obs, y_pred):\n",
    "    # 1) correlación\n",
    "    r    = np.corrcoef(y_obs, y_pred)[0,1]\n",
    "    # 2) sesgo de medias\n",
    "    beta = y_pred.mean() / y_obs.mean()\n",
    "    # 3) razón de coeficientes de variación\n",
    "    cv_obs  = y_obs.std(ddof=1)  / y_obs.mean()\n",
    "    cv_pred = y_pred.std(ddof=1) / y_pred.mean()\n",
    "    gamma = cv_pred / cv_obs\n",
    "    \n",
    "    # 4) fórmula KGE\n",
    "    return 1 - np.sqrt((r - 1)**2 + (beta - 1)**2 + (gamma - 1)**2)"
   ]
  },
  {
   "cell_type": "code",
   "execution_count": 55,
   "id": "29e4c948",
   "metadata": {},
   "outputs": [
    {
     "name": "stdout",
     "output_type": "stream",
     "text": [
      "Iteración 1/100\n",
      "Hiperparámetros: n_estimators=182, max_depth=77, min_samples_split=10, min_samples_leaf=15, max_features=5\n",
      "RMSE = 1.060886337717418, R2 = 0.4546463537500832,RRMSE = 0.12194324453485246, MAPE = 10.801522036811674 , KGE =  0.5417515584947441 \n",
      "==================================================\n",
      "Iteración 2/100\n",
      "Hiperparámetros: n_estimators=433, max_depth=6, min_samples_split=12, min_samples_leaf=7, max_features=1\n",
      "RMSE = 1.0756585307308544, R2 = 0.43943564890435083,RRMSE = 0.12364236040095719, MAPE = 11.13184013233343 , KGE =  0.49241771546298485 \n",
      "==================================================\n",
      "Iteración 3/100\n",
      "Hiperparámetros: n_estimators=559, max_depth=71, min_samples_split=3, min_samples_leaf=15, max_features=8\n",
      "RMSE = 1.0612473472553596, R2 = 0.4543836113828098,RRMSE = 0.12198434202314652, MAPE = 10.777343528683947 , KGE =  0.545489777694654 \n",
      "==================================================\n",
      "Iteración 4/100\n",
      "Hiperparámetros: n_estimators=713, max_depth=7, min_samples_split=10, min_samples_leaf=2, max_features=2\n",
      "RMSE = 1.0616902939571733, R2 = 0.4538612896423936,RRMSE = 0.1220360408790506, MAPE = 10.86840578741619 , KGE =  0.5265531068488425 \n",
      "==================================================\n",
      "Iteración 5/100\n",
      "Hiperparámetros: n_estimators=368, max_depth=55, min_samples_split=15, min_samples_leaf=5, max_features=13\n",
      "RMSE = 1.0585597878408488, R2 = 0.4570467255934383,RRMSE = 0.12167362917528676, MAPE = 10.718107804032222 , KGE =  0.5571867144232963 \n",
      "==================================================\n",
      "Iteración 6/100\n",
      "Hiperparámetros: n_estimators=455, max_depth=88, min_samples_split=15, min_samples_leaf=10, max_features=1\n",
      "RMSE = 1.0636511542827958, R2 = 0.4518023845638143,RRMSE = 0.12226183968820088, MAPE = 10.955083332382348 , KGE =  0.5104929472183881 \n",
      "==================================================\n",
      "Iteración 7/100\n",
      "Hiperparámetros: n_estimators=695, max_depth=46, min_samples_split=3, min_samples_leaf=8, max_features=20\n",
      "RMSE = 1.0598337008792302, R2 = 0.45581330707751977,RRMSE = 0.12182087100351054, MAPE = 10.743095852892282 , KGE =  0.5533196506701443 \n",
      "==================================================\n",
      "Iteración 8/100\n",
      "Hiperparámetros: n_estimators=562, max_depth=26, min_samples_split=6, min_samples_leaf=8, max_features=17\n",
      "RMSE = 1.0596683906666056, R2 = 0.4559670998365619,RRMSE = 0.12180176007940695, MAPE = 10.739314136728414 , KGE =  0.5534274377756738 \n",
      "==================================================\n",
      "Iteración 9/100\n",
      "Hiperparámetros: n_estimators=298, max_depth=39, min_samples_split=9, min_samples_leaf=9, max_features=2\n",
      "RMSE = 1.0584458528997962, R2 = 0.45706880248951964,RRMSE = 0.1216627661998391, MAPE = 10.825608980233259 , KGE =  0.532480577252865 \n",
      "==================================================\n"
     ]
    },
    {
     "ename": "KeyboardInterrupt",
     "evalue": "",
     "output_type": "error",
     "traceback": [
      "\u001b[1;31m---------------------------------------------------------------------------\u001b[0m",
      "\u001b[1;31mKeyboardInterrupt\u001b[0m                         Traceback (most recent call last)",
      "Cell \u001b[1;32mIn[55], line 50\u001b[0m\n\u001b[0;32m     47\u001b[0m X_val_fold \u001b[38;5;241m=\u001b[39m scaler\u001b[38;5;241m.\u001b[39mtransform(X_val_fold)\n\u001b[0;32m     49\u001b[0m \u001b[38;5;66;03m# Entrenar y validar el modelo\u001b[39;00m\n\u001b[1;32m---> 50\u001b[0m \u001b[43mmodel\u001b[49m\u001b[38;5;241;43m.\u001b[39;49m\u001b[43mfit\u001b[49m\u001b[43m(\u001b[49m\u001b[43mX_train_fold\u001b[49m\u001b[43m,\u001b[49m\u001b[43m \u001b[49m\u001b[43mY_train_fold\u001b[49m\u001b[43m)\u001b[49m\n\u001b[0;32m     51\u001b[0m Y_val_pred \u001b[38;5;241m=\u001b[39m model\u001b[38;5;241m.\u001b[39mpredict(X_val_fold)\n\u001b[0;32m     53\u001b[0m \u001b[38;5;66;03m# Calcular métricas\u001b[39;00m\n",
      "File \u001b[1;32mc:\\Users\\Daning\\AppData\\Local\\Programs\\Python\\Python311\\Lib\\site-packages\\sklearn\\base.py:1351\u001b[0m, in \u001b[0;36m_fit_context.<locals>.decorator.<locals>.wrapper\u001b[1;34m(estimator, *args, **kwargs)\u001b[0m\n\u001b[0;32m   1344\u001b[0m     estimator\u001b[38;5;241m.\u001b[39m_validate_params()\n\u001b[0;32m   1346\u001b[0m \u001b[38;5;28;01mwith\u001b[39;00m config_context(\n\u001b[0;32m   1347\u001b[0m     skip_parameter_validation\u001b[38;5;241m=\u001b[39m(\n\u001b[0;32m   1348\u001b[0m         prefer_skip_nested_validation \u001b[38;5;129;01mor\u001b[39;00m global_skip_validation\n\u001b[0;32m   1349\u001b[0m     )\n\u001b[0;32m   1350\u001b[0m ):\n\u001b[1;32m-> 1351\u001b[0m     \u001b[38;5;28;01mreturn\u001b[39;00m \u001b[43mfit_method\u001b[49m\u001b[43m(\u001b[49m\u001b[43mestimator\u001b[49m\u001b[43m,\u001b[49m\u001b[43m \u001b[49m\u001b[38;5;241;43m*\u001b[39;49m\u001b[43margs\u001b[49m\u001b[43m,\u001b[49m\u001b[43m \u001b[49m\u001b[38;5;241;43m*\u001b[39;49m\u001b[38;5;241;43m*\u001b[39;49m\u001b[43mkwargs\u001b[49m\u001b[43m)\u001b[49m\n",
      "File \u001b[1;32mc:\\Users\\Daning\\AppData\\Local\\Programs\\Python\\Python311\\Lib\\site-packages\\sklearn\\ensemble\\_forest.py:489\u001b[0m, in \u001b[0;36mBaseForest.fit\u001b[1;34m(self, X, y, sample_weight)\u001b[0m\n\u001b[0;32m    478\u001b[0m trees \u001b[38;5;241m=\u001b[39m [\n\u001b[0;32m    479\u001b[0m     \u001b[38;5;28mself\u001b[39m\u001b[38;5;241m.\u001b[39m_make_estimator(append\u001b[38;5;241m=\u001b[39m\u001b[38;5;28;01mFalse\u001b[39;00m, random_state\u001b[38;5;241m=\u001b[39mrandom_state)\n\u001b[0;32m    480\u001b[0m     \u001b[38;5;28;01mfor\u001b[39;00m i \u001b[38;5;129;01min\u001b[39;00m \u001b[38;5;28mrange\u001b[39m(n_more_estimators)\n\u001b[0;32m    481\u001b[0m ]\n\u001b[0;32m    483\u001b[0m \u001b[38;5;66;03m# Parallel loop: we prefer the threading backend as the Cython code\u001b[39;00m\n\u001b[0;32m    484\u001b[0m \u001b[38;5;66;03m# for fitting the trees is internally releasing the Python GIL\u001b[39;00m\n\u001b[0;32m    485\u001b[0m \u001b[38;5;66;03m# making threading more efficient than multiprocessing in\u001b[39;00m\n\u001b[0;32m    486\u001b[0m \u001b[38;5;66;03m# that case. However, for joblib 0.12+ we respect any\u001b[39;00m\n\u001b[0;32m    487\u001b[0m \u001b[38;5;66;03m# parallel_backend contexts set at a higher level,\u001b[39;00m\n\u001b[0;32m    488\u001b[0m \u001b[38;5;66;03m# since correctness does not rely on using threads.\u001b[39;00m\n\u001b[1;32m--> 489\u001b[0m trees \u001b[38;5;241m=\u001b[39m \u001b[43mParallel\u001b[49m\u001b[43m(\u001b[49m\n\u001b[0;32m    490\u001b[0m \u001b[43m    \u001b[49m\u001b[43mn_jobs\u001b[49m\u001b[38;5;241;43m=\u001b[39;49m\u001b[38;5;28;43mself\u001b[39;49m\u001b[38;5;241;43m.\u001b[39;49m\u001b[43mn_jobs\u001b[49m\u001b[43m,\u001b[49m\n\u001b[0;32m    491\u001b[0m \u001b[43m    \u001b[49m\u001b[43mverbose\u001b[49m\u001b[38;5;241;43m=\u001b[39;49m\u001b[38;5;28;43mself\u001b[39;49m\u001b[38;5;241;43m.\u001b[39;49m\u001b[43mverbose\u001b[49m\u001b[43m,\u001b[49m\n\u001b[0;32m    492\u001b[0m \u001b[43m    \u001b[49m\u001b[43mprefer\u001b[49m\u001b[38;5;241;43m=\u001b[39;49m\u001b[38;5;124;43m\"\u001b[39;49m\u001b[38;5;124;43mthreads\u001b[39;49m\u001b[38;5;124;43m\"\u001b[39;49m\u001b[43m,\u001b[49m\n\u001b[0;32m    493\u001b[0m \u001b[43m\u001b[49m\u001b[43m)\u001b[49m\u001b[43m(\u001b[49m\n\u001b[0;32m    494\u001b[0m \u001b[43m    \u001b[49m\u001b[43mdelayed\u001b[49m\u001b[43m(\u001b[49m\u001b[43m_parallel_build_trees\u001b[49m\u001b[43m)\u001b[49m\u001b[43m(\u001b[49m\n\u001b[0;32m    495\u001b[0m \u001b[43m        \u001b[49m\u001b[43mt\u001b[49m\u001b[43m,\u001b[49m\n\u001b[0;32m    496\u001b[0m \u001b[43m        \u001b[49m\u001b[38;5;28;43mself\u001b[39;49m\u001b[38;5;241;43m.\u001b[39;49m\u001b[43mbootstrap\u001b[49m\u001b[43m,\u001b[49m\n\u001b[0;32m    497\u001b[0m \u001b[43m        \u001b[49m\u001b[43mX\u001b[49m\u001b[43m,\u001b[49m\n\u001b[0;32m    498\u001b[0m \u001b[43m        \u001b[49m\u001b[43my\u001b[49m\u001b[43m,\u001b[49m\n\u001b[0;32m    499\u001b[0m \u001b[43m        \u001b[49m\u001b[43msample_weight\u001b[49m\u001b[43m,\u001b[49m\n\u001b[0;32m    500\u001b[0m \u001b[43m        \u001b[49m\u001b[43mi\u001b[49m\u001b[43m,\u001b[49m\n\u001b[0;32m    501\u001b[0m \u001b[43m        \u001b[49m\u001b[38;5;28;43mlen\u001b[39;49m\u001b[43m(\u001b[49m\u001b[43mtrees\u001b[49m\u001b[43m)\u001b[49m\u001b[43m,\u001b[49m\n\u001b[0;32m    502\u001b[0m \u001b[43m        \u001b[49m\u001b[43mverbose\u001b[49m\u001b[38;5;241;43m=\u001b[39;49m\u001b[38;5;28;43mself\u001b[39;49m\u001b[38;5;241;43m.\u001b[39;49m\u001b[43mverbose\u001b[49m\u001b[43m,\u001b[49m\n\u001b[0;32m    503\u001b[0m \u001b[43m        \u001b[49m\u001b[43mclass_weight\u001b[49m\u001b[38;5;241;43m=\u001b[39;49m\u001b[38;5;28;43mself\u001b[39;49m\u001b[38;5;241;43m.\u001b[39;49m\u001b[43mclass_weight\u001b[49m\u001b[43m,\u001b[49m\n\u001b[0;32m    504\u001b[0m \u001b[43m        \u001b[49m\u001b[43mn_samples_bootstrap\u001b[49m\u001b[38;5;241;43m=\u001b[39;49m\u001b[43mn_samples_bootstrap\u001b[49m\u001b[43m,\u001b[49m\n\u001b[0;32m    505\u001b[0m \u001b[43m        \u001b[49m\u001b[43mmissing_values_in_feature_mask\u001b[49m\u001b[38;5;241;43m=\u001b[39;49m\u001b[43mmissing_values_in_feature_mask\u001b[49m\u001b[43m,\u001b[49m\n\u001b[0;32m    506\u001b[0m \u001b[43m    \u001b[49m\u001b[43m)\u001b[49m\n\u001b[0;32m    507\u001b[0m \u001b[43m    \u001b[49m\u001b[38;5;28;43;01mfor\u001b[39;49;00m\u001b[43m \u001b[49m\u001b[43mi\u001b[49m\u001b[43m,\u001b[49m\u001b[43m \u001b[49m\u001b[43mt\u001b[49m\u001b[43m \u001b[49m\u001b[38;5;129;43;01min\u001b[39;49;00m\u001b[43m \u001b[49m\u001b[38;5;28;43menumerate\u001b[39;49m\u001b[43m(\u001b[49m\u001b[43mtrees\u001b[49m\u001b[43m)\u001b[49m\n\u001b[0;32m    508\u001b[0m \u001b[43m\u001b[49m\u001b[43m)\u001b[49m\n\u001b[0;32m    510\u001b[0m \u001b[38;5;66;03m# Collect newly grown trees\u001b[39;00m\n\u001b[0;32m    511\u001b[0m \u001b[38;5;28mself\u001b[39m\u001b[38;5;241m.\u001b[39mestimators_\u001b[38;5;241m.\u001b[39mextend(trees)\n",
      "File \u001b[1;32mc:\\Users\\Daning\\AppData\\Local\\Programs\\Python\\Python311\\Lib\\site-packages\\sklearn\\utils\\parallel.py:67\u001b[0m, in \u001b[0;36mParallel.__call__\u001b[1;34m(self, iterable)\u001b[0m\n\u001b[0;32m     62\u001b[0m config \u001b[38;5;241m=\u001b[39m get_config()\n\u001b[0;32m     63\u001b[0m iterable_with_config \u001b[38;5;241m=\u001b[39m (\n\u001b[0;32m     64\u001b[0m     (_with_config(delayed_func, config), args, kwargs)\n\u001b[0;32m     65\u001b[0m     \u001b[38;5;28;01mfor\u001b[39;00m delayed_func, args, kwargs \u001b[38;5;129;01min\u001b[39;00m iterable\n\u001b[0;32m     66\u001b[0m )\n\u001b[1;32m---> 67\u001b[0m \u001b[38;5;28;01mreturn\u001b[39;00m \u001b[38;5;28;43msuper\u001b[39;49m\u001b[43m(\u001b[49m\u001b[43m)\u001b[49m\u001b[38;5;241;43m.\u001b[39;49m\u001b[38;5;21;43m__call__\u001b[39;49m\u001b[43m(\u001b[49m\u001b[43miterable_with_config\u001b[49m\u001b[43m)\u001b[49m\n",
      "File \u001b[1;32mc:\\Users\\Daning\\AppData\\Local\\Programs\\Python\\Python311\\Lib\\site-packages\\joblib\\parallel.py:1952\u001b[0m, in \u001b[0;36mParallel.__call__\u001b[1;34m(self, iterable)\u001b[0m\n\u001b[0;32m   1946\u001b[0m \u001b[38;5;66;03m# The first item from the output is blank, but it makes the interpreter\u001b[39;00m\n\u001b[0;32m   1947\u001b[0m \u001b[38;5;66;03m# progress until it enters the Try/Except block of the generator and\u001b[39;00m\n\u001b[0;32m   1948\u001b[0m \u001b[38;5;66;03m# reach the first `yield` statement. This starts the aynchronous\u001b[39;00m\n\u001b[0;32m   1949\u001b[0m \u001b[38;5;66;03m# dispatch of the tasks to the workers.\u001b[39;00m\n\u001b[0;32m   1950\u001b[0m \u001b[38;5;28mnext\u001b[39m(output)\n\u001b[1;32m-> 1952\u001b[0m \u001b[38;5;28;01mreturn\u001b[39;00m output \u001b[38;5;28;01mif\u001b[39;00m \u001b[38;5;28mself\u001b[39m\u001b[38;5;241m.\u001b[39mreturn_generator \u001b[38;5;28;01melse\u001b[39;00m \u001b[38;5;28mlist\u001b[39m(output)\n",
      "File \u001b[1;32mc:\\Users\\Daning\\AppData\\Local\\Programs\\Python\\Python311\\Lib\\site-packages\\joblib\\parallel.py:1595\u001b[0m, in \u001b[0;36mParallel._get_outputs\u001b[1;34m(self, iterator, pre_dispatch)\u001b[0m\n\u001b[0;32m   1592\u001b[0m     \u001b[38;5;28;01myield\u001b[39;00m\n\u001b[0;32m   1594\u001b[0m     \u001b[38;5;28;01mwith\u001b[39;00m \u001b[38;5;28mself\u001b[39m\u001b[38;5;241m.\u001b[39m_backend\u001b[38;5;241m.\u001b[39mretrieval_context():\n\u001b[1;32m-> 1595\u001b[0m         \u001b[38;5;28;01myield from\u001b[39;00m \u001b[38;5;28mself\u001b[39m\u001b[38;5;241m.\u001b[39m_retrieve()\n\u001b[0;32m   1597\u001b[0m \u001b[38;5;28;01mexcept\u001b[39;00m \u001b[38;5;167;01mGeneratorExit\u001b[39;00m:\n\u001b[0;32m   1598\u001b[0m     \u001b[38;5;66;03m# The generator has been garbage collected before being fully\u001b[39;00m\n\u001b[0;32m   1599\u001b[0m     \u001b[38;5;66;03m# consumed. This aborts the remaining tasks if possible and warn\u001b[39;00m\n\u001b[0;32m   1600\u001b[0m     \u001b[38;5;66;03m# the user if necessary.\u001b[39;00m\n\u001b[0;32m   1601\u001b[0m     \u001b[38;5;28mself\u001b[39m\u001b[38;5;241m.\u001b[39m_exception \u001b[38;5;241m=\u001b[39m \u001b[38;5;28;01mTrue\u001b[39;00m\n",
      "File \u001b[1;32mc:\\Users\\Daning\\AppData\\Local\\Programs\\Python\\Python311\\Lib\\site-packages\\joblib\\parallel.py:1707\u001b[0m, in \u001b[0;36mParallel._retrieve\u001b[1;34m(self)\u001b[0m\n\u001b[0;32m   1702\u001b[0m \u001b[38;5;66;03m# If the next job is not ready for retrieval yet, we just wait for\u001b[39;00m\n\u001b[0;32m   1703\u001b[0m \u001b[38;5;66;03m# async callbacks to progress.\u001b[39;00m\n\u001b[0;32m   1704\u001b[0m \u001b[38;5;28;01mif\u001b[39;00m ((\u001b[38;5;28mlen\u001b[39m(\u001b[38;5;28mself\u001b[39m\u001b[38;5;241m.\u001b[39m_jobs) \u001b[38;5;241m==\u001b[39m \u001b[38;5;241m0\u001b[39m) \u001b[38;5;129;01mor\u001b[39;00m\n\u001b[0;32m   1705\u001b[0m     (\u001b[38;5;28mself\u001b[39m\u001b[38;5;241m.\u001b[39m_jobs[\u001b[38;5;241m0\u001b[39m]\u001b[38;5;241m.\u001b[39mget_status(\n\u001b[0;32m   1706\u001b[0m         timeout\u001b[38;5;241m=\u001b[39m\u001b[38;5;28mself\u001b[39m\u001b[38;5;241m.\u001b[39mtimeout) \u001b[38;5;241m==\u001b[39m TASK_PENDING)):\n\u001b[1;32m-> 1707\u001b[0m     time\u001b[38;5;241m.\u001b[39msleep(\u001b[38;5;241m0.01\u001b[39m)\n\u001b[0;32m   1708\u001b[0m     \u001b[38;5;28;01mcontinue\u001b[39;00m\n\u001b[0;32m   1710\u001b[0m \u001b[38;5;66;03m# We need to be careful: the job list can be filling up as\u001b[39;00m\n\u001b[0;32m   1711\u001b[0m \u001b[38;5;66;03m# we empty it and Python list are not thread-safe by\u001b[39;00m\n\u001b[0;32m   1712\u001b[0m \u001b[38;5;66;03m# default hence the use of the lock\u001b[39;00m\n",
      "\u001b[1;31mKeyboardInterrupt\u001b[0m: "
     ]
    }
   ],
   "source": [
    "# Número de iteraciones de la optimización\n",
    "n_trials = 100  # Número de iteraciones a realizar\n",
    "# Set seed for reproducibility\n",
    "np.random.seed(593)\n",
    "# K-Fold para la evaluación cruzada\n",
    "kf = KFold(n_splits=5, shuffle=True, random_state=593)\n",
    "\n",
    "# Inicia la optimización manual\n",
    "for i in range(n_trials):\n",
    "    # 1️⃣ Iniciar una nueva prueba\n",
    "    trial = study_rf1.ask()\n",
    "    \n",
    "    # 2️⃣ Sugerir los hiperparámetros (Optuna los selecciona automáticamente)\n",
    "    n_estimators = trial.suggest_int('n_estimators', 100, 800)  # Número de árboles\n",
    "    max_depth = trial.suggest_int('max_depth', 3, 100)  # Profundidad máxima\n",
    "    min_samples_split = trial.suggest_int('min_samples_split', 2, 15)  # División mínima de nodos\n",
    "    min_samples_leaf = trial.suggest_int('min_samples_leaf', 2, 15)  # Hojas mínimas por nodo\n",
    "    max_features = trial.suggest_int('max_features', 1,20)  # Máximo de características\n",
    "    np.random.seed(593)\n",
    "    # 3️⃣ Crear el modelo de RandomForestRegressor con los hiperparámetros generados\n",
    "    model = RandomForestRegressor(\n",
    "        n_estimators=n_estimators,\n",
    "        max_depth=max_depth,\n",
    "        min_samples_split=min_samples_split,\n",
    "        min_samples_leaf=min_samples_leaf,\n",
    "        max_features=max_features,\n",
    "        random_state=593,\n",
    "        n_jobs=-1  # Usa todos los núcleos de la CPU\n",
    "    )\n",
    "    \n",
    "   \n",
    "     # Validación cruzada con escalado en cada fold\n",
    "    rmse_scores = []\n",
    "    r2_scores = []\n",
    "    rrmse_scores = []\n",
    "    mape_scores = []\n",
    "    kge_scores = []\n",
    "\n",
    "    for train_idx, val_idx in kf.split(X_train):\n",
    "        # Dividir en entrenamiento y validación para este fold\n",
    "        X_train_fold, X_val_fold = X_train[train_idx], X_train[val_idx]\n",
    "        Y_train_fold, Y_val_fold = Y_train[train_idx], Y_train[val_idx]\n",
    "\n",
    "        # Escalar los datos del fold\n",
    "        scaler = StandardScaler()\n",
    "        X_train_fold = scaler.fit_transform(X_train_fold)\n",
    "        X_val_fold = scaler.transform(X_val_fold)\n",
    "\n",
    "        # Entrenar y validar el modelo\n",
    "        model.fit(X_train_fold, Y_train_fold)\n",
    "        Y_val_pred = model.predict(X_val_fold)\n",
    "\n",
    "        # Calcular métricas\n",
    "        rmse = root_mean_squared_error(Y_val_fold, Y_val_pred)\n",
    "        rrmse = rmse/Y_val_fold.mean()\n",
    "        mape =  mean_absolute_percentage_error(Y_val_fold, Y_val_pred) * 100  # en %\n",
    "        r2 = r2_score(Y_val_fold, Y_val_pred)\n",
    "        kge = kling_gupta_efficiency(Y_val_fold, Y_val_pred)\n",
    "\n",
    "\n",
    "\n",
    "        rmse_scores.append(rmse)\n",
    "        rrmse_scores.append(rrmse)\n",
    "        mape_scores.append(mape)\n",
    "        r2_scores.append(r2)\n",
    "        kge_scores.append(kge)\n",
    "    \n",
    "    # 5️⃣ Calcular la puntuación promedio\n",
    "    mean_rmse = np.mean(rmse_scores)  # Se usa negativo porque scikit-learn devuelve la métrica negativa\n",
    "    mean_rrmse = np.mean(rrmse_scores)\n",
    "    mean_mape = np.mean(mape_scores)\n",
    "    mean_r2 = np.mean(r2_scores)\n",
    "    mean_kge = np.mean(kge_scores)\n",
    "\n",
    "    # 6 calcular desviación estandar de la metrica}\n",
    "\n",
    "    sd_rmse = np.std(rmse_scores)  # Se usa negativo porque scikit-learn devuelve la métrica negativa\n",
    "    sd_rrmse = np.std(rrmse_scores)\n",
    "    sd_mape = np.std(mape_scores)\n",
    "    sd_r2 = np.std(r2_scores)\n",
    "    sd_kge = np.std(kge_scores)\n",
    "\n",
    "    # 7 calcular \n",
    "\n",
    "    # 7 almacena las metricas\n",
    "\n",
    "    \n",
    "    trial.set_user_attr('mean_r2', mean_r2)\n",
    "\n",
    "    trial.set_user_attr('sd_r2', sd_r2)\n",
    "\n",
    "    trial.set_user_attr('mean_rmse', mean_rmse)\n",
    "\n",
    "    trial.set_user_attr('sd_rmse', sd_rmse)\n",
    "\n",
    "    trial.set_user_attr('mean_rrmse', mean_rrmse)\n",
    "\n",
    "    trial.set_user_attr('sd_rrmse', sd_rrmse)\n",
    "\n",
    "    trial.set_user_attr('mean_mape', mean_mape)\n",
    "\n",
    "    trial.set_user_attr('sd_mape', sd_mape)\n",
    "\n",
    "    trial.set_user_attr('mean_kge', mean_kge)\n",
    "\n",
    "    trial.set_user_attr('sd_kge', sd_kge)\n",
    "\n",
    "\n",
    "    \n",
    "    # 6️⃣ Registrar los resultados en la \"study\"\n",
    "    study_rf1.tell(trial, mean_mape)\n",
    "   \n",
    "    \n",
    "    # Imprimir los resultados de la iteración actual\n",
    "    print(f\"Iteración {i+1}/{n_trials}\")\n",
    "    print(f\"Hiperparámetros: n_estimators={n_estimators}, max_depth={max_depth}, min_samples_split={min_samples_split}, min_samples_leaf={min_samples_leaf}, max_features={max_features}\")\n",
    "    print(f\"RMSE = {mean_rmse}, R2 = {mean_r2},RRMSE = {mean_rrmse}, MAPE = {mean_mape} , KGE =  {mean_kge} \")\n",
    "    print(\"=\"*50)"
   ]
  },
  {
   "cell_type": "code",
   "execution_count": 42,
   "id": "489b0083",
   "metadata": {},
   "outputs": [
    {
     "ename": "ValueError",
     "evalue": "Mime type rendering requires nbformat>=4.2.0 but it is not installed",
     "output_type": "error",
     "traceback": [
      "\u001b[1;31m---------------------------------------------------------------------------\u001b[0m",
      "\u001b[1;31mValueError\u001b[0m                                Traceback (most recent call last)",
      "File \u001b[1;32m~\\AppData\\Roaming\\Python\\Python311\\site-packages\\IPython\\core\\formatters.py:922\u001b[0m, in \u001b[0;36mIPythonDisplayFormatter.__call__\u001b[1;34m(self, obj)\u001b[0m\n\u001b[0;32m    920\u001b[0m method \u001b[38;5;241m=\u001b[39m get_real_method(obj, \u001b[38;5;28mself\u001b[39m\u001b[38;5;241m.\u001b[39mprint_method)\n\u001b[0;32m    921\u001b[0m \u001b[38;5;28;01mif\u001b[39;00m method \u001b[38;5;129;01mis\u001b[39;00m \u001b[38;5;129;01mnot\u001b[39;00m \u001b[38;5;28;01mNone\u001b[39;00m:\n\u001b[1;32m--> 922\u001b[0m     \u001b[43mmethod\u001b[49m\u001b[43m(\u001b[49m\u001b[43m)\u001b[49m\n\u001b[0;32m    923\u001b[0m     \u001b[38;5;28;01mreturn\u001b[39;00m \u001b[38;5;28;01mTrue\u001b[39;00m\n",
      "File \u001b[1;32mc:\\Users\\Daning\\AppData\\Local\\Programs\\Python\\Python311\\Lib\\site-packages\\plotly\\basedatatypes.py:833\u001b[0m, in \u001b[0;36mBaseFigure._ipython_display_\u001b[1;34m(self)\u001b[0m\n\u001b[0;32m    830\u001b[0m \u001b[38;5;28;01mimport\u001b[39;00m\u001b[38;5;250m \u001b[39m\u001b[38;5;21;01mplotly\u001b[39;00m\u001b[38;5;21;01m.\u001b[39;00m\u001b[38;5;21;01mio\u001b[39;00m\u001b[38;5;250m \u001b[39m\u001b[38;5;28;01mas\u001b[39;00m\u001b[38;5;250m \u001b[39m\u001b[38;5;21;01mpio\u001b[39;00m\n\u001b[0;32m    832\u001b[0m \u001b[38;5;28;01mif\u001b[39;00m pio\u001b[38;5;241m.\u001b[39mrenderers\u001b[38;5;241m.\u001b[39mrender_on_display \u001b[38;5;129;01mand\u001b[39;00m pio\u001b[38;5;241m.\u001b[39mrenderers\u001b[38;5;241m.\u001b[39mdefault:\n\u001b[1;32m--> 833\u001b[0m     \u001b[43mpio\u001b[49m\u001b[38;5;241;43m.\u001b[39;49m\u001b[43mshow\u001b[49m\u001b[43m(\u001b[49m\u001b[38;5;28;43mself\u001b[39;49m\u001b[43m)\u001b[49m\n\u001b[0;32m    834\u001b[0m \u001b[38;5;28;01melse\u001b[39;00m:\n\u001b[0;32m    835\u001b[0m     \u001b[38;5;28mprint\u001b[39m(\u001b[38;5;28mrepr\u001b[39m(\u001b[38;5;28mself\u001b[39m))\n",
      "File \u001b[1;32mc:\\Users\\Daning\\AppData\\Local\\Programs\\Python\\Python311\\Lib\\site-packages\\plotly\\io\\_renderers.py:425\u001b[0m, in \u001b[0;36mshow\u001b[1;34m(fig, renderer, validate, **kwargs)\u001b[0m\n\u001b[0;32m    420\u001b[0m     \u001b[38;5;28;01mraise\u001b[39;00m \u001b[38;5;167;01mValueError\u001b[39;00m(\n\u001b[0;32m    421\u001b[0m         \u001b[38;5;124m\"\u001b[39m\u001b[38;5;124mMime type rendering requires ipython but it is not installed\u001b[39m\u001b[38;5;124m\"\u001b[39m\n\u001b[0;32m    422\u001b[0m     )\n\u001b[0;32m    424\u001b[0m \u001b[38;5;28;01mif\u001b[39;00m \u001b[38;5;129;01mnot\u001b[39;00m nbformat \u001b[38;5;129;01mor\u001b[39;00m Version(nbformat\u001b[38;5;241m.\u001b[39m__version__) \u001b[38;5;241m<\u001b[39m Version(\u001b[38;5;124m\"\u001b[39m\u001b[38;5;124m4.2.0\u001b[39m\u001b[38;5;124m\"\u001b[39m):\n\u001b[1;32m--> 425\u001b[0m     \u001b[38;5;28;01mraise\u001b[39;00m \u001b[38;5;167;01mValueError\u001b[39;00m(\n\u001b[0;32m    426\u001b[0m         \u001b[38;5;124m\"\u001b[39m\u001b[38;5;124mMime type rendering requires nbformat>=4.2.0 but it is not installed\u001b[39m\u001b[38;5;124m\"\u001b[39m\n\u001b[0;32m    427\u001b[0m     )\n\u001b[0;32m    429\u001b[0m display_jupyter_version_warnings()\n\u001b[0;32m    431\u001b[0m ipython_display\u001b[38;5;241m.\u001b[39mdisplay(bundle, raw\u001b[38;5;241m=\u001b[39m\u001b[38;5;28;01mTrue\u001b[39;00m)\n",
      "\u001b[1;31mValueError\u001b[0m: Mime type rendering requires nbformat>=4.2.0 but it is not installed"
     ]
    },
    {
     "data": {
      "application/vnd.plotly.v1+json": {
       "config": {
        "plotlyServerURL": "https://plot.ly"
       },
       "data": [
        {
         "mode": "markers",
         "name": "Objective Value",
         "type": "scatter",
         "x": [
          0,
          1,
          2,
          3,
          4,
          5,
          6,
          7,
          8,
          9,
          10,
          11,
          12,
          13,
          14,
          15,
          16,
          17,
          18,
          19,
          20,
          21,
          22,
          23,
          24,
          25,
          26,
          27,
          28,
          29,
          30,
          31,
          32,
          33,
          34,
          35,
          36,
          37,
          38,
          39,
          40,
          41,
          42,
          43,
          44,
          45,
          46,
          47,
          48,
          49,
          50,
          51,
          52,
          53,
          54,
          55,
          56,
          57,
          58,
          59,
          60,
          61,
          62,
          63,
          64,
          65,
          66,
          67,
          68,
          69,
          70,
          71,
          72,
          73,
          74,
          75,
          76,
          77,
          78,
          79,
          80,
          81,
          82,
          83,
          84,
          85,
          86,
          87,
          88,
          89,
          90,
          91,
          92,
          93,
          94,
          95,
          96,
          97,
          98,
          99
         ],
         "y": [
          10.839368724144544,
          11.254369675534589,
          10.779644943782797,
          10.94281503810797,
          10.677779856844243,
          11.094273073798778,
          10.70687117740467,
          10.70600005225651,
          10.8776563229475,
          10.744838809720612,
          10.669290209358916,
          10.670080501808393,
          10.710357192853316,
          10.669291857234125,
          10.662538689129232,
          10.667123509166272,
          10.678066086209622,
          10.714400487908673,
          10.751484974425587,
          10.651953636455605,
          10.670153882404232,
          10.666728384659148,
          10.663765523092685,
          10.656961040637142,
          10.647060663457207,
          10.636666168781607,
          10.63691371367197,
          10.631539671820871,
          10.633279775251863,
          10.63312824013953,
          10.62380040729072,
          10.625409433779769,
          10.625085081175426,
          10.59039239341613,
          10.599173536583148,
          10.599863107570297,
          10.596452765419325,
          10.762916432749115,
          10.689700415715235,
          10.599915293176164,
          10.637207930845154,
          10.599168601022772,
          10.597492150132869,
          10.625298785906862,
          10.596267014662256,
          10.692775030657597,
          10.716844785963058,
          10.644899336865695,
          10.583291978193023,
          10.611217239192579,
          10.660985489230757,
          10.596759015560954,
          10.596914336006131,
          10.581981000149781,
          11.074548617937145,
          10.747963185652367,
          10.624195318540329,
          10.582729644195624,
          10.581825769702508,
          10.562015982630571,
          10.589877083582227,
          10.614563269541147,
          10.565852666896614,
          10.56103115728283,
          10.566087346452885,
          10.565852666896614,
          10.57808210245627,
          10.570478326392557,
          10.570227137101678,
          10.730425945065255,
          10.626139289926378,
          10.571963634368407,
          10.819219728308209,
          11.266512517750204,
          10.588004485339974,
          10.576706256779904,
          10.66796977289936,
          10.583027387842789,
          10.595123231240217,
          10.781011980323798,
          10.624481824145965,
          10.587038752361673,
          10.582743299086598,
          10.604325613473303,
          10.598066983174471,
          10.724638775661461,
          10.593882336199396,
          10.584845389215982,
          10.658566828752276,
          10.732660233378487,
          10.935084055211888,
          10.578082102456271,
          10.575667984878127,
          10.600979225799088,
          10.761978072176667,
          10.583318075149295,
          10.5898664235348,
          10.58159782523703,
          10.668078232882483,
          10.583429101442272
         ]
        },
        {
         "mode": "lines",
         "name": "Best Value",
         "type": "scatter",
         "x": [
          0,
          1,
          2,
          3,
          4,
          5,
          6,
          7,
          8,
          9,
          10,
          11,
          12,
          13,
          14,
          15,
          16,
          17,
          18,
          19,
          20,
          21,
          22,
          23,
          24,
          25,
          26,
          27,
          28,
          29,
          30,
          31,
          32,
          33,
          34,
          35,
          36,
          37,
          38,
          39,
          40,
          41,
          42,
          43,
          44,
          45,
          46,
          47,
          48,
          49,
          50,
          51,
          52,
          53,
          54,
          55,
          56,
          57,
          58,
          59,
          60,
          61,
          62,
          63,
          64,
          65,
          66,
          67,
          68,
          69,
          70,
          71,
          72,
          73,
          74,
          75,
          76,
          77,
          78,
          79,
          80,
          81,
          82,
          83,
          84,
          85,
          86,
          87,
          88,
          89,
          90,
          91,
          92,
          93,
          94,
          95,
          96,
          97,
          98,
          99
         ],
         "y": [
          10.839368724144544,
          10.839368724144544,
          10.779644943782797,
          10.779644943782797,
          10.677779856844243,
          10.677779856844243,
          10.677779856844243,
          10.677779856844243,
          10.677779856844243,
          10.677779856844243,
          10.669290209358916,
          10.669290209358916,
          10.669290209358916,
          10.669290209358916,
          10.662538689129232,
          10.662538689129232,
          10.662538689129232,
          10.662538689129232,
          10.662538689129232,
          10.651953636455605,
          10.651953636455605,
          10.651953636455605,
          10.651953636455605,
          10.651953636455605,
          10.647060663457207,
          10.636666168781607,
          10.636666168781607,
          10.631539671820871,
          10.631539671820871,
          10.631539671820871,
          10.62380040729072,
          10.62380040729072,
          10.62380040729072,
          10.59039239341613,
          10.59039239341613,
          10.59039239341613,
          10.59039239341613,
          10.59039239341613,
          10.59039239341613,
          10.59039239341613,
          10.59039239341613,
          10.59039239341613,
          10.59039239341613,
          10.59039239341613,
          10.59039239341613,
          10.59039239341613,
          10.59039239341613,
          10.59039239341613,
          10.583291978193023,
          10.583291978193023,
          10.583291978193023,
          10.583291978193023,
          10.583291978193023,
          10.581981000149781,
          10.581981000149781,
          10.581981000149781,
          10.581981000149781,
          10.581981000149781,
          10.581825769702508,
          10.562015982630571,
          10.562015982630571,
          10.562015982630571,
          10.562015982630571,
          10.56103115728283,
          10.56103115728283,
          10.56103115728283,
          10.56103115728283,
          10.56103115728283,
          10.56103115728283,
          10.56103115728283,
          10.56103115728283,
          10.56103115728283,
          10.56103115728283,
          10.56103115728283,
          10.56103115728283,
          10.56103115728283,
          10.56103115728283,
          10.56103115728283,
          10.56103115728283,
          10.56103115728283,
          10.56103115728283,
          10.56103115728283,
          10.56103115728283,
          10.56103115728283,
          10.56103115728283,
          10.56103115728283,
          10.56103115728283,
          10.56103115728283,
          10.56103115728283,
          10.56103115728283,
          10.56103115728283,
          10.56103115728283,
          10.56103115728283,
          10.56103115728283,
          10.56103115728283,
          10.56103115728283,
          10.56103115728283,
          10.56103115728283,
          10.56103115728283,
          10.56103115728283
         ]
        },
        {
         "marker": {
          "color": "#cccccc"
         },
         "mode": "markers",
         "name": "Infeasible Trial",
         "showlegend": false,
         "type": "scatter",
         "x": [],
         "y": []
        }
       ],
       "layout": {
        "template": {
         "data": {
          "bar": [
           {
            "error_x": {
             "color": "#2a3f5f"
            },
            "error_y": {
             "color": "#2a3f5f"
            },
            "marker": {
             "line": {
              "color": "#E5ECF6",
              "width": 0.5
             },
             "pattern": {
              "fillmode": "overlay",
              "size": 10,
              "solidity": 0.2
             }
            },
            "type": "bar"
           }
          ],
          "barpolar": [
           {
            "marker": {
             "line": {
              "color": "#E5ECF6",
              "width": 0.5
             },
             "pattern": {
              "fillmode": "overlay",
              "size": 10,
              "solidity": 0.2
             }
            },
            "type": "barpolar"
           }
          ],
          "carpet": [
           {
            "aaxis": {
             "endlinecolor": "#2a3f5f",
             "gridcolor": "white",
             "linecolor": "white",
             "minorgridcolor": "white",
             "startlinecolor": "#2a3f5f"
            },
            "baxis": {
             "endlinecolor": "#2a3f5f",
             "gridcolor": "white",
             "linecolor": "white",
             "minorgridcolor": "white",
             "startlinecolor": "#2a3f5f"
            },
            "type": "carpet"
           }
          ],
          "choropleth": [
           {
            "colorbar": {
             "outlinewidth": 0,
             "ticks": ""
            },
            "type": "choropleth"
           }
          ],
          "contour": [
           {
            "colorbar": {
             "outlinewidth": 0,
             "ticks": ""
            },
            "colorscale": [
             [
              0,
              "#0d0887"
             ],
             [
              0.1111111111111111,
              "#46039f"
             ],
             [
              0.2222222222222222,
              "#7201a8"
             ],
             [
              0.3333333333333333,
              "#9c179e"
             ],
             [
              0.4444444444444444,
              "#bd3786"
             ],
             [
              0.5555555555555556,
              "#d8576b"
             ],
             [
              0.6666666666666666,
              "#ed7953"
             ],
             [
              0.7777777777777778,
              "#fb9f3a"
             ],
             [
              0.8888888888888888,
              "#fdca26"
             ],
             [
              1,
              "#f0f921"
             ]
            ],
            "type": "contour"
           }
          ],
          "contourcarpet": [
           {
            "colorbar": {
             "outlinewidth": 0,
             "ticks": ""
            },
            "type": "contourcarpet"
           }
          ],
          "heatmap": [
           {
            "colorbar": {
             "outlinewidth": 0,
             "ticks": ""
            },
            "colorscale": [
             [
              0,
              "#0d0887"
             ],
             [
              0.1111111111111111,
              "#46039f"
             ],
             [
              0.2222222222222222,
              "#7201a8"
             ],
             [
              0.3333333333333333,
              "#9c179e"
             ],
             [
              0.4444444444444444,
              "#bd3786"
             ],
             [
              0.5555555555555556,
              "#d8576b"
             ],
             [
              0.6666666666666666,
              "#ed7953"
             ],
             [
              0.7777777777777778,
              "#fb9f3a"
             ],
             [
              0.8888888888888888,
              "#fdca26"
             ],
             [
              1,
              "#f0f921"
             ]
            ],
            "type": "heatmap"
           }
          ],
          "histogram": [
           {
            "marker": {
             "pattern": {
              "fillmode": "overlay",
              "size": 10,
              "solidity": 0.2
             }
            },
            "type": "histogram"
           }
          ],
          "histogram2d": [
           {
            "colorbar": {
             "outlinewidth": 0,
             "ticks": ""
            },
            "colorscale": [
             [
              0,
              "#0d0887"
             ],
             [
              0.1111111111111111,
              "#46039f"
             ],
             [
              0.2222222222222222,
              "#7201a8"
             ],
             [
              0.3333333333333333,
              "#9c179e"
             ],
             [
              0.4444444444444444,
              "#bd3786"
             ],
             [
              0.5555555555555556,
              "#d8576b"
             ],
             [
              0.6666666666666666,
              "#ed7953"
             ],
             [
              0.7777777777777778,
              "#fb9f3a"
             ],
             [
              0.8888888888888888,
              "#fdca26"
             ],
             [
              1,
              "#f0f921"
             ]
            ],
            "type": "histogram2d"
           }
          ],
          "histogram2dcontour": [
           {
            "colorbar": {
             "outlinewidth": 0,
             "ticks": ""
            },
            "colorscale": [
             [
              0,
              "#0d0887"
             ],
             [
              0.1111111111111111,
              "#46039f"
             ],
             [
              0.2222222222222222,
              "#7201a8"
             ],
             [
              0.3333333333333333,
              "#9c179e"
             ],
             [
              0.4444444444444444,
              "#bd3786"
             ],
             [
              0.5555555555555556,
              "#d8576b"
             ],
             [
              0.6666666666666666,
              "#ed7953"
             ],
             [
              0.7777777777777778,
              "#fb9f3a"
             ],
             [
              0.8888888888888888,
              "#fdca26"
             ],
             [
              1,
              "#f0f921"
             ]
            ],
            "type": "histogram2dcontour"
           }
          ],
          "mesh3d": [
           {
            "colorbar": {
             "outlinewidth": 0,
             "ticks": ""
            },
            "type": "mesh3d"
           }
          ],
          "parcoords": [
           {
            "line": {
             "colorbar": {
              "outlinewidth": 0,
              "ticks": ""
             }
            },
            "type": "parcoords"
           }
          ],
          "pie": [
           {
            "automargin": true,
            "type": "pie"
           }
          ],
          "scatter": [
           {
            "fillpattern": {
             "fillmode": "overlay",
             "size": 10,
             "solidity": 0.2
            },
            "type": "scatter"
           }
          ],
          "scatter3d": [
           {
            "line": {
             "colorbar": {
              "outlinewidth": 0,
              "ticks": ""
             }
            },
            "marker": {
             "colorbar": {
              "outlinewidth": 0,
              "ticks": ""
             }
            },
            "type": "scatter3d"
           }
          ],
          "scattercarpet": [
           {
            "marker": {
             "colorbar": {
              "outlinewidth": 0,
              "ticks": ""
             }
            },
            "type": "scattercarpet"
           }
          ],
          "scattergeo": [
           {
            "marker": {
             "colorbar": {
              "outlinewidth": 0,
              "ticks": ""
             }
            },
            "type": "scattergeo"
           }
          ],
          "scattergl": [
           {
            "marker": {
             "colorbar": {
              "outlinewidth": 0,
              "ticks": ""
             }
            },
            "type": "scattergl"
           }
          ],
          "scattermap": [
           {
            "marker": {
             "colorbar": {
              "outlinewidth": 0,
              "ticks": ""
             }
            },
            "type": "scattermap"
           }
          ],
          "scattermapbox": [
           {
            "marker": {
             "colorbar": {
              "outlinewidth": 0,
              "ticks": ""
             }
            },
            "type": "scattermapbox"
           }
          ],
          "scatterpolar": [
           {
            "marker": {
             "colorbar": {
              "outlinewidth": 0,
              "ticks": ""
             }
            },
            "type": "scatterpolar"
           }
          ],
          "scatterpolargl": [
           {
            "marker": {
             "colorbar": {
              "outlinewidth": 0,
              "ticks": ""
             }
            },
            "type": "scatterpolargl"
           }
          ],
          "scatterternary": [
           {
            "marker": {
             "colorbar": {
              "outlinewidth": 0,
              "ticks": ""
             }
            },
            "type": "scatterternary"
           }
          ],
          "surface": [
           {
            "colorbar": {
             "outlinewidth": 0,
             "ticks": ""
            },
            "colorscale": [
             [
              0,
              "#0d0887"
             ],
             [
              0.1111111111111111,
              "#46039f"
             ],
             [
              0.2222222222222222,
              "#7201a8"
             ],
             [
              0.3333333333333333,
              "#9c179e"
             ],
             [
              0.4444444444444444,
              "#bd3786"
             ],
             [
              0.5555555555555556,
              "#d8576b"
             ],
             [
              0.6666666666666666,
              "#ed7953"
             ],
             [
              0.7777777777777778,
              "#fb9f3a"
             ],
             [
              0.8888888888888888,
              "#fdca26"
             ],
             [
              1,
              "#f0f921"
             ]
            ],
            "type": "surface"
           }
          ],
          "table": [
           {
            "cells": {
             "fill": {
              "color": "#EBF0F8"
             },
             "line": {
              "color": "white"
             }
            },
            "header": {
             "fill": {
              "color": "#C8D4E3"
             },
             "line": {
              "color": "white"
             }
            },
            "type": "table"
           }
          ]
         },
         "layout": {
          "annotationdefaults": {
           "arrowcolor": "#2a3f5f",
           "arrowhead": 0,
           "arrowwidth": 1
          },
          "autotypenumbers": "strict",
          "coloraxis": {
           "colorbar": {
            "outlinewidth": 0,
            "ticks": ""
           }
          },
          "colorscale": {
           "diverging": [
            [
             0,
             "#8e0152"
            ],
            [
             0.1,
             "#c51b7d"
            ],
            [
             0.2,
             "#de77ae"
            ],
            [
             0.3,
             "#f1b6da"
            ],
            [
             0.4,
             "#fde0ef"
            ],
            [
             0.5,
             "#f7f7f7"
            ],
            [
             0.6,
             "#e6f5d0"
            ],
            [
             0.7,
             "#b8e186"
            ],
            [
             0.8,
             "#7fbc41"
            ],
            [
             0.9,
             "#4d9221"
            ],
            [
             1,
             "#276419"
            ]
           ],
           "sequential": [
            [
             0,
             "#0d0887"
            ],
            [
             0.1111111111111111,
             "#46039f"
            ],
            [
             0.2222222222222222,
             "#7201a8"
            ],
            [
             0.3333333333333333,
             "#9c179e"
            ],
            [
             0.4444444444444444,
             "#bd3786"
            ],
            [
             0.5555555555555556,
             "#d8576b"
            ],
            [
             0.6666666666666666,
             "#ed7953"
            ],
            [
             0.7777777777777778,
             "#fb9f3a"
            ],
            [
             0.8888888888888888,
             "#fdca26"
            ],
            [
             1,
             "#f0f921"
            ]
           ],
           "sequentialminus": [
            [
             0,
             "#0d0887"
            ],
            [
             0.1111111111111111,
             "#46039f"
            ],
            [
             0.2222222222222222,
             "#7201a8"
            ],
            [
             0.3333333333333333,
             "#9c179e"
            ],
            [
             0.4444444444444444,
             "#bd3786"
            ],
            [
             0.5555555555555556,
             "#d8576b"
            ],
            [
             0.6666666666666666,
             "#ed7953"
            ],
            [
             0.7777777777777778,
             "#fb9f3a"
            ],
            [
             0.8888888888888888,
             "#fdca26"
            ],
            [
             1,
             "#f0f921"
            ]
           ]
          },
          "colorway": [
           "#636efa",
           "#EF553B",
           "#00cc96",
           "#ab63fa",
           "#FFA15A",
           "#19d3f3",
           "#FF6692",
           "#B6E880",
           "#FF97FF",
           "#FECB52"
          ],
          "font": {
           "color": "#2a3f5f"
          },
          "geo": {
           "bgcolor": "white",
           "lakecolor": "white",
           "landcolor": "#E5ECF6",
           "showlakes": true,
           "showland": true,
           "subunitcolor": "white"
          },
          "hoverlabel": {
           "align": "left"
          },
          "hovermode": "closest",
          "mapbox": {
           "style": "light"
          },
          "paper_bgcolor": "white",
          "plot_bgcolor": "#E5ECF6",
          "polar": {
           "angularaxis": {
            "gridcolor": "white",
            "linecolor": "white",
            "ticks": ""
           },
           "bgcolor": "#E5ECF6",
           "radialaxis": {
            "gridcolor": "white",
            "linecolor": "white",
            "ticks": ""
           }
          },
          "scene": {
           "xaxis": {
            "backgroundcolor": "#E5ECF6",
            "gridcolor": "white",
            "gridwidth": 2,
            "linecolor": "white",
            "showbackground": true,
            "ticks": "",
            "zerolinecolor": "white"
           },
           "yaxis": {
            "backgroundcolor": "#E5ECF6",
            "gridcolor": "white",
            "gridwidth": 2,
            "linecolor": "white",
            "showbackground": true,
            "ticks": "",
            "zerolinecolor": "white"
           },
           "zaxis": {
            "backgroundcolor": "#E5ECF6",
            "gridcolor": "white",
            "gridwidth": 2,
            "linecolor": "white",
            "showbackground": true,
            "ticks": "",
            "zerolinecolor": "white"
           }
          },
          "shapedefaults": {
           "line": {
            "color": "#2a3f5f"
           }
          },
          "ternary": {
           "aaxis": {
            "gridcolor": "white",
            "linecolor": "white",
            "ticks": ""
           },
           "baxis": {
            "gridcolor": "white",
            "linecolor": "white",
            "ticks": ""
           },
           "bgcolor": "#E5ECF6",
           "caxis": {
            "gridcolor": "white",
            "linecolor": "white",
            "ticks": ""
           }
          },
          "title": {
           "x": 0.05
          },
          "xaxis": {
           "automargin": true,
           "gridcolor": "white",
           "linecolor": "white",
           "ticks": "",
           "title": {
            "standoff": 15
           },
           "zerolinecolor": "white",
           "zerolinewidth": 2
          },
          "yaxis": {
           "automargin": true,
           "gridcolor": "white",
           "linecolor": "white",
           "ticks": "",
           "title": {
            "standoff": 15
           },
           "zerolinecolor": "white",
           "zerolinewidth": 2
          }
         }
        },
        "title": {
         "text": "Optimization History Plot"
        },
        "xaxis": {
         "title": {
          "text": "Trial"
         }
        },
        "yaxis": {
         "title": {
          "text": "Objective Value"
         }
        }
       }
      },
      "text/html": [
       "<div>                        <script type=\"text/javascript\">window.PlotlyConfig = {MathJaxConfig: 'local'};</script>\n",
       "        <script charset=\"utf-8\" src=\"https://cdn.plot.ly/plotly-3.0.0.min.js\"></script>                <div id=\"d892ce15-884f-43a7-b8f6-f865dc66fc60\" class=\"plotly-graph-div\" style=\"height:100%; width:100%;\"></div>            <script type=\"text/javascript\">                window.PLOTLYENV=window.PLOTLYENV || {};                                if (document.getElementById(\"d892ce15-884f-43a7-b8f6-f865dc66fc60\")) {                    Plotly.newPlot(                        \"d892ce15-884f-43a7-b8f6-f865dc66fc60\",                        [{\"mode\":\"markers\",\"name\":\"Objective Value\",\"x\":[0,1,2,3,4,5,6,7,8,9,10,11,12,13,14,15,16,17,18,19,20,21,22,23,24,25,26,27,28,29,30,31,32,33,34,35,36,37,38,39,40,41,42,43,44,45,46,47,48,49,50,51,52,53,54,55,56,57,58,59,60,61,62,63,64,65,66,67,68,69,70,71,72,73,74,75,76,77,78,79,80,81,82,83,84,85,86,87,88,89,90,91,92,93,94,95,96,97,98,99],\"y\":[10.839368724144544,11.254369675534589,10.779644943782797,10.94281503810797,10.677779856844243,11.094273073798778,10.70687117740467,10.70600005225651,10.8776563229475,10.744838809720612,10.669290209358916,10.670080501808393,10.710357192853316,10.669291857234125,10.662538689129232,10.667123509166272,10.678066086209622,10.714400487908673,10.751484974425587,10.651953636455605,10.670153882404232,10.666728384659148,10.663765523092685,10.656961040637142,10.647060663457207,10.636666168781607,10.63691371367197,10.631539671820871,10.633279775251863,10.63312824013953,10.62380040729072,10.625409433779769,10.625085081175426,10.59039239341613,10.599173536583148,10.599863107570297,10.596452765419325,10.762916432749115,10.689700415715235,10.599915293176164,10.637207930845154,10.599168601022772,10.597492150132869,10.625298785906862,10.596267014662256,10.692775030657597,10.716844785963058,10.644899336865695,10.583291978193023,10.611217239192579,10.660985489230757,10.596759015560954,10.596914336006131,10.581981000149781,11.074548617937145,10.747963185652367,10.624195318540329,10.582729644195624,10.581825769702508,10.562015982630571,10.589877083582227,10.614563269541147,10.565852666896614,10.56103115728283,10.566087346452885,10.565852666896614,10.57808210245627,10.570478326392557,10.570227137101678,10.730425945065255,10.626139289926378,10.571963634368407,10.819219728308209,11.266512517750204,10.588004485339974,10.576706256779904,10.66796977289936,10.583027387842789,10.595123231240217,10.781011980323798,10.624481824145965,10.587038752361673,10.582743299086598,10.604325613473303,10.598066983174471,10.724638775661461,10.593882336199396,10.584845389215982,10.658566828752276,10.732660233378487,10.935084055211888,10.578082102456271,10.575667984878127,10.600979225799088,10.761978072176667,10.583318075149295,10.5898664235348,10.58159782523703,10.668078232882483,10.583429101442272],\"type\":\"scatter\"},{\"mode\":\"lines\",\"name\":\"Best Value\",\"x\":[0,1,2,3,4,5,6,7,8,9,10,11,12,13,14,15,16,17,18,19,20,21,22,23,24,25,26,27,28,29,30,31,32,33,34,35,36,37,38,39,40,41,42,43,44,45,46,47,48,49,50,51,52,53,54,55,56,57,58,59,60,61,62,63,64,65,66,67,68,69,70,71,72,73,74,75,76,77,78,79,80,81,82,83,84,85,86,87,88,89,90,91,92,93,94,95,96,97,98,99],\"y\":[10.839368724144544,10.839368724144544,10.779644943782797,10.779644943782797,10.677779856844243,10.677779856844243,10.677779856844243,10.677779856844243,10.677779856844243,10.677779856844243,10.669290209358916,10.669290209358916,10.669290209358916,10.669290209358916,10.662538689129232,10.662538689129232,10.662538689129232,10.662538689129232,10.662538689129232,10.651953636455605,10.651953636455605,10.651953636455605,10.651953636455605,10.651953636455605,10.647060663457207,10.636666168781607,10.636666168781607,10.631539671820871,10.631539671820871,10.631539671820871,10.62380040729072,10.62380040729072,10.62380040729072,10.59039239341613,10.59039239341613,10.59039239341613,10.59039239341613,10.59039239341613,10.59039239341613,10.59039239341613,10.59039239341613,10.59039239341613,10.59039239341613,10.59039239341613,10.59039239341613,10.59039239341613,10.59039239341613,10.59039239341613,10.583291978193023,10.583291978193023,10.583291978193023,10.583291978193023,10.583291978193023,10.581981000149781,10.581981000149781,10.581981000149781,10.581981000149781,10.581981000149781,10.581825769702508,10.562015982630571,10.562015982630571,10.562015982630571,10.562015982630571,10.56103115728283,10.56103115728283,10.56103115728283,10.56103115728283,10.56103115728283,10.56103115728283,10.56103115728283,10.56103115728283,10.56103115728283,10.56103115728283,10.56103115728283,10.56103115728283,10.56103115728283,10.56103115728283,10.56103115728283,10.56103115728283,10.56103115728283,10.56103115728283,10.56103115728283,10.56103115728283,10.56103115728283,10.56103115728283,10.56103115728283,10.56103115728283,10.56103115728283,10.56103115728283,10.56103115728283,10.56103115728283,10.56103115728283,10.56103115728283,10.56103115728283,10.56103115728283,10.56103115728283,10.56103115728283,10.56103115728283,10.56103115728283,10.56103115728283],\"type\":\"scatter\"},{\"marker\":{\"color\":\"#cccccc\"},\"mode\":\"markers\",\"name\":\"Infeasible Trial\",\"showlegend\":false,\"x\":[],\"y\":[],\"type\":\"scatter\"}],                        {\"title\":{\"text\":\"Optimization History Plot\"},\"xaxis\":{\"title\":{\"text\":\"Trial\"}},\"yaxis\":{\"title\":{\"text\":\"Objective Value\"}},\"template\":{\"data\":{\"histogram2dcontour\":[{\"type\":\"histogram2dcontour\",\"colorbar\":{\"outlinewidth\":0,\"ticks\":\"\"},\"colorscale\":[[0.0,\"#0d0887\"],[0.1111111111111111,\"#46039f\"],[0.2222222222222222,\"#7201a8\"],[0.3333333333333333,\"#9c179e\"],[0.4444444444444444,\"#bd3786\"],[0.5555555555555556,\"#d8576b\"],[0.6666666666666666,\"#ed7953\"],[0.7777777777777778,\"#fb9f3a\"],[0.8888888888888888,\"#fdca26\"],[1.0,\"#f0f921\"]]}],\"choropleth\":[{\"type\":\"choropleth\",\"colorbar\":{\"outlinewidth\":0,\"ticks\":\"\"}}],\"histogram2d\":[{\"type\":\"histogram2d\",\"colorbar\":{\"outlinewidth\":0,\"ticks\":\"\"},\"colorscale\":[[0.0,\"#0d0887\"],[0.1111111111111111,\"#46039f\"],[0.2222222222222222,\"#7201a8\"],[0.3333333333333333,\"#9c179e\"],[0.4444444444444444,\"#bd3786\"],[0.5555555555555556,\"#d8576b\"],[0.6666666666666666,\"#ed7953\"],[0.7777777777777778,\"#fb9f3a\"],[0.8888888888888888,\"#fdca26\"],[1.0,\"#f0f921\"]]}],\"heatmap\":[{\"type\":\"heatmap\",\"colorbar\":{\"outlinewidth\":0,\"ticks\":\"\"},\"colorscale\":[[0.0,\"#0d0887\"],[0.1111111111111111,\"#46039f\"],[0.2222222222222222,\"#7201a8\"],[0.3333333333333333,\"#9c179e\"],[0.4444444444444444,\"#bd3786\"],[0.5555555555555556,\"#d8576b\"],[0.6666666666666666,\"#ed7953\"],[0.7777777777777778,\"#fb9f3a\"],[0.8888888888888888,\"#fdca26\"],[1.0,\"#f0f921\"]]}],\"contourcarpet\":[{\"type\":\"contourcarpet\",\"colorbar\":{\"outlinewidth\":0,\"ticks\":\"\"}}],\"contour\":[{\"type\":\"contour\",\"colorbar\":{\"outlinewidth\":0,\"ticks\":\"\"},\"colorscale\":[[0.0,\"#0d0887\"],[0.1111111111111111,\"#46039f\"],[0.2222222222222222,\"#7201a8\"],[0.3333333333333333,\"#9c179e\"],[0.4444444444444444,\"#bd3786\"],[0.5555555555555556,\"#d8576b\"],[0.6666666666666666,\"#ed7953\"],[0.7777777777777778,\"#fb9f3a\"],[0.8888888888888888,\"#fdca26\"],[1.0,\"#f0f921\"]]}],\"surface\":[{\"type\":\"surface\",\"colorbar\":{\"outlinewidth\":0,\"ticks\":\"\"},\"colorscale\":[[0.0,\"#0d0887\"],[0.1111111111111111,\"#46039f\"],[0.2222222222222222,\"#7201a8\"],[0.3333333333333333,\"#9c179e\"],[0.4444444444444444,\"#bd3786\"],[0.5555555555555556,\"#d8576b\"],[0.6666666666666666,\"#ed7953\"],[0.7777777777777778,\"#fb9f3a\"],[0.8888888888888888,\"#fdca26\"],[1.0,\"#f0f921\"]]}],\"mesh3d\":[{\"type\":\"mesh3d\",\"colorbar\":{\"outlinewidth\":0,\"ticks\":\"\"}}],\"scatter\":[{\"fillpattern\":{\"fillmode\":\"overlay\",\"size\":10,\"solidity\":0.2},\"type\":\"scatter\"}],\"parcoords\":[{\"type\":\"parcoords\",\"line\":{\"colorbar\":{\"outlinewidth\":0,\"ticks\":\"\"}}}],\"scatterpolargl\":[{\"type\":\"scatterpolargl\",\"marker\":{\"colorbar\":{\"outlinewidth\":0,\"ticks\":\"\"}}}],\"bar\":[{\"error_x\":{\"color\":\"#2a3f5f\"},\"error_y\":{\"color\":\"#2a3f5f\"},\"marker\":{\"line\":{\"color\":\"#E5ECF6\",\"width\":0.5},\"pattern\":{\"fillmode\":\"overlay\",\"size\":10,\"solidity\":0.2}},\"type\":\"bar\"}],\"scattergeo\":[{\"type\":\"scattergeo\",\"marker\":{\"colorbar\":{\"outlinewidth\":0,\"ticks\":\"\"}}}],\"scatterpolar\":[{\"type\":\"scatterpolar\",\"marker\":{\"colorbar\":{\"outlinewidth\":0,\"ticks\":\"\"}}}],\"histogram\":[{\"marker\":{\"pattern\":{\"fillmode\":\"overlay\",\"size\":10,\"solidity\":0.2}},\"type\":\"histogram\"}],\"scattergl\":[{\"type\":\"scattergl\",\"marker\":{\"colorbar\":{\"outlinewidth\":0,\"ticks\":\"\"}}}],\"scatter3d\":[{\"type\":\"scatter3d\",\"line\":{\"colorbar\":{\"outlinewidth\":0,\"ticks\":\"\"}},\"marker\":{\"colorbar\":{\"outlinewidth\":0,\"ticks\":\"\"}}}],\"scattermap\":[{\"type\":\"scattermap\",\"marker\":{\"colorbar\":{\"outlinewidth\":0,\"ticks\":\"\"}}}],\"scattermapbox\":[{\"type\":\"scattermapbox\",\"marker\":{\"colorbar\":{\"outlinewidth\":0,\"ticks\":\"\"}}}],\"scatterternary\":[{\"type\":\"scatterternary\",\"marker\":{\"colorbar\":{\"outlinewidth\":0,\"ticks\":\"\"}}}],\"scattercarpet\":[{\"type\":\"scattercarpet\",\"marker\":{\"colorbar\":{\"outlinewidth\":0,\"ticks\":\"\"}}}],\"carpet\":[{\"aaxis\":{\"endlinecolor\":\"#2a3f5f\",\"gridcolor\":\"white\",\"linecolor\":\"white\",\"minorgridcolor\":\"white\",\"startlinecolor\":\"#2a3f5f\"},\"baxis\":{\"endlinecolor\":\"#2a3f5f\",\"gridcolor\":\"white\",\"linecolor\":\"white\",\"minorgridcolor\":\"white\",\"startlinecolor\":\"#2a3f5f\"},\"type\":\"carpet\"}],\"table\":[{\"cells\":{\"fill\":{\"color\":\"#EBF0F8\"},\"line\":{\"color\":\"white\"}},\"header\":{\"fill\":{\"color\":\"#C8D4E3\"},\"line\":{\"color\":\"white\"}},\"type\":\"table\"}],\"barpolar\":[{\"marker\":{\"line\":{\"color\":\"#E5ECF6\",\"width\":0.5},\"pattern\":{\"fillmode\":\"overlay\",\"size\":10,\"solidity\":0.2}},\"type\":\"barpolar\"}],\"pie\":[{\"automargin\":true,\"type\":\"pie\"}]},\"layout\":{\"autotypenumbers\":\"strict\",\"colorway\":[\"#636efa\",\"#EF553B\",\"#00cc96\",\"#ab63fa\",\"#FFA15A\",\"#19d3f3\",\"#FF6692\",\"#B6E880\",\"#FF97FF\",\"#FECB52\"],\"font\":{\"color\":\"#2a3f5f\"},\"hovermode\":\"closest\",\"hoverlabel\":{\"align\":\"left\"},\"paper_bgcolor\":\"white\",\"plot_bgcolor\":\"#E5ECF6\",\"polar\":{\"bgcolor\":\"#E5ECF6\",\"angularaxis\":{\"gridcolor\":\"white\",\"linecolor\":\"white\",\"ticks\":\"\"},\"radialaxis\":{\"gridcolor\":\"white\",\"linecolor\":\"white\",\"ticks\":\"\"}},\"ternary\":{\"bgcolor\":\"#E5ECF6\",\"aaxis\":{\"gridcolor\":\"white\",\"linecolor\":\"white\",\"ticks\":\"\"},\"baxis\":{\"gridcolor\":\"white\",\"linecolor\":\"white\",\"ticks\":\"\"},\"caxis\":{\"gridcolor\":\"white\",\"linecolor\":\"white\",\"ticks\":\"\"}},\"coloraxis\":{\"colorbar\":{\"outlinewidth\":0,\"ticks\":\"\"}},\"colorscale\":{\"sequential\":[[0.0,\"#0d0887\"],[0.1111111111111111,\"#46039f\"],[0.2222222222222222,\"#7201a8\"],[0.3333333333333333,\"#9c179e\"],[0.4444444444444444,\"#bd3786\"],[0.5555555555555556,\"#d8576b\"],[0.6666666666666666,\"#ed7953\"],[0.7777777777777778,\"#fb9f3a\"],[0.8888888888888888,\"#fdca26\"],[1.0,\"#f0f921\"]],\"sequentialminus\":[[0.0,\"#0d0887\"],[0.1111111111111111,\"#46039f\"],[0.2222222222222222,\"#7201a8\"],[0.3333333333333333,\"#9c179e\"],[0.4444444444444444,\"#bd3786\"],[0.5555555555555556,\"#d8576b\"],[0.6666666666666666,\"#ed7953\"],[0.7777777777777778,\"#fb9f3a\"],[0.8888888888888888,\"#fdca26\"],[1.0,\"#f0f921\"]],\"diverging\":[[0,\"#8e0152\"],[0.1,\"#c51b7d\"],[0.2,\"#de77ae\"],[0.3,\"#f1b6da\"],[0.4,\"#fde0ef\"],[0.5,\"#f7f7f7\"],[0.6,\"#e6f5d0\"],[0.7,\"#b8e186\"],[0.8,\"#7fbc41\"],[0.9,\"#4d9221\"],[1,\"#276419\"]]},\"xaxis\":{\"gridcolor\":\"white\",\"linecolor\":\"white\",\"ticks\":\"\",\"title\":{\"standoff\":15},\"zerolinecolor\":\"white\",\"automargin\":true,\"zerolinewidth\":2},\"yaxis\":{\"gridcolor\":\"white\",\"linecolor\":\"white\",\"ticks\":\"\",\"title\":{\"standoff\":15},\"zerolinecolor\":\"white\",\"automargin\":true,\"zerolinewidth\":2},\"scene\":{\"xaxis\":{\"backgroundcolor\":\"#E5ECF6\",\"gridcolor\":\"white\",\"linecolor\":\"white\",\"showbackground\":true,\"ticks\":\"\",\"zerolinecolor\":\"white\",\"gridwidth\":2},\"yaxis\":{\"backgroundcolor\":\"#E5ECF6\",\"gridcolor\":\"white\",\"linecolor\":\"white\",\"showbackground\":true,\"ticks\":\"\",\"zerolinecolor\":\"white\",\"gridwidth\":2},\"zaxis\":{\"backgroundcolor\":\"#E5ECF6\",\"gridcolor\":\"white\",\"linecolor\":\"white\",\"showbackground\":true,\"ticks\":\"\",\"zerolinecolor\":\"white\",\"gridwidth\":2}},\"shapedefaults\":{\"line\":{\"color\":\"#2a3f5f\"}},\"annotationdefaults\":{\"arrowcolor\":\"#2a3f5f\",\"arrowhead\":0,\"arrowwidth\":1},\"geo\":{\"bgcolor\":\"white\",\"landcolor\":\"#E5ECF6\",\"subunitcolor\":\"white\",\"showland\":true,\"showlakes\":true,\"lakecolor\":\"white\"},\"title\":{\"x\":0.05},\"mapbox\":{\"style\":\"light\"}}}},                        {\"responsive\": true}                    )                };            </script>        </div>"
      ],
      "text/plain": [
       "Figure({\n",
       "    'data': [{'mode': 'markers',\n",
       "              'name': 'Objective Value',\n",
       "              'type': 'scatter',\n",
       "              'x': [0, 1, 2, 3, 4, 5, 6, 7, 8, 9, 10, 11, 12, 13, 14, 15, 16, 17,\n",
       "                    18, 19, 20, 21, 22, 23, 24, 25, 26, 27, 28, 29, 30, 31, 32, 33,\n",
       "                    34, 35, 36, 37, 38, 39, 40, 41, 42, 43, 44, 45, 46, 47, 48, 49,\n",
       "                    50, 51, 52, 53, 54, 55, 56, 57, 58, 59, 60, 61, 62, 63, 64, 65,\n",
       "                    66, 67, 68, 69, 70, 71, 72, 73, 74, 75, 76, 77, 78, 79, 80, 81,\n",
       "                    82, 83, 84, 85, 86, 87, 88, 89, 90, 91, 92, 93, 94, 95, 96, 97,\n",
       "                    98, 99],\n",
       "              'y': [10.839368724144544, 11.254369675534589, 10.779644943782797,\n",
       "                    10.94281503810797, 10.677779856844243, 11.094273073798778,\n",
       "                    10.70687117740467, 10.70600005225651, 10.8776563229475,\n",
       "                    10.744838809720612, 10.669290209358916, 10.670080501808393,\n",
       "                    10.710357192853316, 10.669291857234125, 10.662538689129232,\n",
       "                    10.667123509166272, 10.678066086209622, 10.714400487908673,\n",
       "                    10.751484974425587, 10.651953636455605, 10.670153882404232,\n",
       "                    10.666728384659148, 10.663765523092685, 10.656961040637142,\n",
       "                    10.647060663457207, 10.636666168781607, 10.63691371367197,\n",
       "                    10.631539671820871, 10.633279775251863, 10.63312824013953,\n",
       "                    10.62380040729072, 10.625409433779769, 10.625085081175426,\n",
       "                    10.59039239341613, 10.599173536583148, 10.599863107570297,\n",
       "                    10.596452765419325, 10.762916432749115, 10.689700415715235,\n",
       "                    10.599915293176164, 10.637207930845154, 10.599168601022772,\n",
       "                    10.597492150132869, 10.625298785906862, 10.596267014662256,\n",
       "                    10.692775030657597, 10.716844785963058, 10.644899336865695,\n",
       "                    10.583291978193023, 10.611217239192579, 10.660985489230757,\n",
       "                    10.596759015560954, 10.596914336006131, 10.581981000149781,\n",
       "                    11.074548617937145, 10.747963185652367, 10.624195318540329,\n",
       "                    10.582729644195624, 10.581825769702508, 10.562015982630571,\n",
       "                    10.589877083582227, 10.614563269541147, 10.565852666896614,\n",
       "                    10.56103115728283, 10.566087346452885, 10.565852666896614,\n",
       "                    10.57808210245627, 10.570478326392557, 10.570227137101678,\n",
       "                    10.730425945065255, 10.626139289926378, 10.571963634368407,\n",
       "                    10.819219728308209, 11.266512517750204, 10.588004485339974,\n",
       "                    10.576706256779904, 10.66796977289936, 10.583027387842789,\n",
       "                    10.595123231240217, 10.781011980323798, 10.624481824145965,\n",
       "                    10.587038752361673, 10.582743299086598, 10.604325613473303,\n",
       "                    10.598066983174471, 10.724638775661461, 10.593882336199396,\n",
       "                    10.584845389215982, 10.658566828752276, 10.732660233378487,\n",
       "                    10.935084055211888, 10.578082102456271, 10.575667984878127,\n",
       "                    10.600979225799088, 10.761978072176667, 10.583318075149295,\n",
       "                    10.5898664235348, 10.58159782523703, 10.668078232882483,\n",
       "                    10.583429101442272]},\n",
       "             {'mode': 'lines',\n",
       "              'name': 'Best Value',\n",
       "              'type': 'scatter',\n",
       "              'x': [0, 1, 2, 3, 4, 5, 6, 7, 8, 9, 10, 11, 12, 13, 14, 15, 16, 17,\n",
       "                    18, 19, 20, 21, 22, 23, 24, 25, 26, 27, 28, 29, 30, 31, 32, 33,\n",
       "                    34, 35, 36, 37, 38, 39, 40, 41, 42, 43, 44, 45, 46, 47, 48, 49,\n",
       "                    50, 51, 52, 53, 54, 55, 56, 57, 58, 59, 60, 61, 62, 63, 64, 65,\n",
       "                    66, 67, 68, 69, 70, 71, 72, 73, 74, 75, 76, 77, 78, 79, 80, 81,\n",
       "                    82, 83, 84, 85, 86, 87, 88, 89, 90, 91, 92, 93, 94, 95, 96, 97,\n",
       "                    98, 99],\n",
       "              'y': [10.839368724144544, 10.839368724144544, 10.779644943782797,\n",
       "                    10.779644943782797, 10.677779856844243, 10.677779856844243,\n",
       "                    10.677779856844243, 10.677779856844243, 10.677779856844243,\n",
       "                    10.677779856844243, 10.669290209358916, 10.669290209358916,\n",
       "                    10.669290209358916, 10.669290209358916, 10.662538689129232,\n",
       "                    10.662538689129232, 10.662538689129232, 10.662538689129232,\n",
       "                    10.662538689129232, 10.651953636455605, 10.651953636455605,\n",
       "                    10.651953636455605, 10.651953636455605, 10.651953636455605,\n",
       "                    10.647060663457207, 10.636666168781607, 10.636666168781607,\n",
       "                    10.631539671820871, 10.631539671820871, 10.631539671820871,\n",
       "                    10.62380040729072, 10.62380040729072, 10.62380040729072,\n",
       "                    10.59039239341613, 10.59039239341613, 10.59039239341613,\n",
       "                    10.59039239341613, 10.59039239341613, 10.59039239341613,\n",
       "                    10.59039239341613, 10.59039239341613, 10.59039239341613,\n",
       "                    10.59039239341613, 10.59039239341613, 10.59039239341613,\n",
       "                    10.59039239341613, 10.59039239341613, 10.59039239341613,\n",
       "                    10.583291978193023, 10.583291978193023, 10.583291978193023,\n",
       "                    10.583291978193023, 10.583291978193023, 10.581981000149781,\n",
       "                    10.581981000149781, 10.581981000149781, 10.581981000149781,\n",
       "                    10.581981000149781, 10.581825769702508, 10.562015982630571,\n",
       "                    10.562015982630571, 10.562015982630571, 10.562015982630571,\n",
       "                    10.56103115728283, 10.56103115728283, 10.56103115728283,\n",
       "                    10.56103115728283, 10.56103115728283, 10.56103115728283,\n",
       "                    10.56103115728283, 10.56103115728283, 10.56103115728283,\n",
       "                    10.56103115728283, 10.56103115728283, 10.56103115728283,\n",
       "                    10.56103115728283, 10.56103115728283, 10.56103115728283,\n",
       "                    10.56103115728283, 10.56103115728283, 10.56103115728283,\n",
       "                    10.56103115728283, 10.56103115728283, 10.56103115728283,\n",
       "                    10.56103115728283, 10.56103115728283, 10.56103115728283,\n",
       "                    10.56103115728283, 10.56103115728283, 10.56103115728283,\n",
       "                    10.56103115728283, 10.56103115728283, 10.56103115728283,\n",
       "                    10.56103115728283, 10.56103115728283, 10.56103115728283,\n",
       "                    10.56103115728283, 10.56103115728283, 10.56103115728283,\n",
       "                    10.56103115728283]},\n",
       "             {'marker': {'color': '#cccccc'},\n",
       "              'mode': 'markers',\n",
       "              'name': 'Infeasible Trial',\n",
       "              'showlegend': False,\n",
       "              'type': 'scatter',\n",
       "              'x': [],\n",
       "              'y': []}],\n",
       "    'layout': {'template': '...',\n",
       "               'title': {'text': 'Optimization History Plot'},\n",
       "               'xaxis': {'title': {'text': 'Trial'}},\n",
       "               'yaxis': {'title': {'text': 'Objective Value'}}}\n",
       "})"
      ]
     },
     "execution_count": 42,
     "metadata": {},
     "output_type": "execute_result"
    }
   ],
   "source": [
    "from optuna.visualization import plot_optimization_history\n",
    "plot_optimization_history(study_rf1)"
   ]
  },
  {
   "cell_type": "code",
   "execution_count": 43,
   "id": "9359959f",
   "metadata": {},
   "outputs": [
    {
     "name": "stdout",
     "output_type": "stream",
     "text": [
      "\n",
      "🔍 Mejores hiperparámetros encontrados:\n",
      "Hiperparámetros: {'n_estimators': 569, 'max_depth': 13, 'min_samples_split': 2, 'min_samples_leaf': 2, 'max_features': 12}\n",
      "Mejor puntuación (RMSE): 10.56103115728283\n",
      "\n",
      "🔍 Métricas adicionales registradas en set_user_attr:\n",
      "mean_r2: 0.46678645685179576\n",
      "sd_r2: 0.04113940152273654\n",
      "mean_rmse: 1.0492274813359885\n",
      "sd_rmse: 0.03860588683252442\n",
      "mean_rrmse: 0.12060333125500353\n",
      "sd_rrmse: 0.004578335127177071\n",
      "mean_mape: 10.56103115728283\n",
      "sd_mape: 0.4828364217849447\n",
      "mean_kge: 0.5661042131125067\n",
      "sd_kge: 0.04104617349101186\n"
     ]
    }
   ],
   "source": [
    "# 8️⃣ Imprimir los mejores hiperparámetros encontrados, la métrica objetivo y las métricas personalizadas\n",
    "print(\"\\n🔍 Mejores hiperparámetros encontrados:\")\n",
    "best_params = study_rf1.best_params\n",
    "best_mae = study_rf1.best_value  # Esta es la mejor métrica (RMSE) obtenida\n",
    "best_trial = study_rf1.best_trial  # El mejor trial, que tiene toda la información\n",
    "\n",
    "# Imprimir los hiperparámetros y la métrica principal\n",
    "print(f\"Hiperparámetros: {best_params}\")\n",
    "print(f\"Mejor puntuación (RMSE): {best_mae}\")\n",
    "# Imprimir las métricas registradas con set_user_attr\n",
    "print(\"\\n🔍 Métricas adicionales registradas en set_user_attr:\")\n",
    "for attr_name, attr_value in best_trial.user_attrs.items():\n",
    "    print(f\"{attr_name}: {attr_value}\")"
   ]
  },
  {
   "cell_type": "code",
   "execution_count": 44,
   "id": "5473e90c",
   "metadata": {},
   "outputs": [
    {
     "data": {
      "image/png": "[encoded data removed]",
      "text/plain": [
       "<Figure size 400x400 with 1 Axes>"
      ]
     },
     "metadata": {},
     "output_type": "display_data"
    },
    {
     "data": {
      "text/plain": [
       "['B11', 'B12', 'lat', 'lon', 'GCI', 'B4', 'elevation', 'Slope', 'NDVI', 'B3']"
      ]
     },
     "execution_count": 44,
     "metadata": {},
     "output_type": "execute_result"
    }
   ],
   "source": [
    "from sklearn.ensemble import RandomForestRegressor\n",
    "\n",
    "from scipy.stats import linregress, pearsonr\n",
    "\n",
    "\n",
    "# Entrenar el modelo final con los mejores hiperparámetros\n",
    "scaler = StandardScaler()\n",
    "X_train_scaled = scaler.fit_transform(X_train)\n",
    "X_test_scaled = scaler.transform(X_test)\n",
    "\n",
    "\n",
    "# Crear el modelo con los mejores hiperparámetros\n",
    "final_model_rf1 = RandomForestRegressor(\n",
    "    n_estimators=best_params['n_estimators'],\n",
    "    max_depth=best_params['max_depth'],\n",
    "    min_samples_split=best_params['min_samples_split'],\n",
    "    min_samples_leaf=best_params['min_samples_leaf'],\n",
    "    max_features=best_params['max_features'],\n",
    "    random_state=593,\n",
    "    n_jobs=-1\n",
    ")\n",
    "\n",
    "\n",
    "# Entrenar el modelo con el conjunto de entrenamiento\n",
    "final_model_rf1.fit(X_train_scaled, Y_train)\n",
    "importance = final_model_rf1.feature_importances_\n",
    "\n",
    "# Predecir los valores para el conjunto de prueba\n",
    "Y_pred = final_model_rf1.predict(X_test_scaled)\n",
    "\n",
    "# Calcular los residuos\n",
    "\n",
    "slope, intercept, r_value, p_value, std_err = linregress(Y_test, Y_pred)\n",
    "\n",
    "# Gráfico de residuos\n",
    " # Graficar la regresión\n",
    "plt.figure(figsize=(4,4))\n",
    "plt.scatter(Y_test, Y_pred, c='crimson')\n",
    "\n",
    "p1 = max(max(Y_pred), max(Y_test))\n",
    "p2 = min(min(Y_pred), min(Y_test))\n",
    "plt.plot([p1, p2], [p1, p2], 'b-')\n",
    "plt.plot(Y_test, slope * Y_test + intercept, color='green', label='Línea de regresión')\n",
    "plt.xlabel('True Values', fontsize=15)\n",
    "plt.ylabel('Predictions', fontsize=15)\n",
    "plt.axis('equal')\n",
    "plt.show()\n",
    "variables_predictoras"
   ]
  },
  {
   "cell_type": "code",
   "execution_count": 45,
   "id": "0318593f",
   "metadata": {},
   "outputs": [
    {
     "data": {
      "text/plain": [
       "array([0.04525219, 0.38481915, 0.09807358, 0.08886487, 0.12490562,\n",
       "       0.04377867, 0.06032283, 0.0599999 , 0.0453633 , 0.04861989])"
      ]
     },
     "execution_count": 45,
     "metadata": {},
     "output_type": "execute_result"
    }
   ],
   "source": [
    "final_model_rf1.feature_importances_"
   ]
  },
  {
   "cell_type": "code",
   "execution_count": 46,
   "id": "2a0be880",
   "metadata": {},
   "outputs": [],
   "source": [
    "name_modelo = \"SAR - RF sin seleccion\" \n",
    "rf1_pred = pd.DataFrame({\"MODELO\":name_modelo, \"Y_test\":Y_test, \"Y_pred\":Y_pred})"
   ]
  },
  {
   "cell_type": "code",
   "execution_count": 47,
   "id": "a0fed5e3",
   "metadata": {},
   "outputs": [
    {
     "name": "stdout",
     "output_type": "stream",
     "text": [
      "╔══════════════════════════╗\n",
      "║   Métricas del modelo    ║\n",
      "╠══════════════════════════╣\n",
      "║ R²   :    0.493        ║\n",
      "║ RMSE :    1.061        ║\n",
      "║ MAPE :    10.62 %     ║\n",
      "║ KGE  :    0.591        ║\n",
      "╚══════════════════════════╝\n"
     ]
    }
   ],
   "source": [
    "# Calcular R2 y RMSE\n",
    "\n",
    "\n",
    "from sklearn.metrics import root_mean_squared_error, r2_score\n",
    "modelo = \"SAR - RF sin seleccion\"\n",
    "\n",
    "r2 = r2_score(Y_test, Y_pred)\n",
    "rmse = root_mean_squared_error(Y_test, Y_pred)\n",
    "\n",
    "mape =  mean_absolute_percentage_error(Y_test, Y_pred) * 100  # en %\n",
    "r2 = r2_score(Y_test, Y_pred)\n",
    "kge = kling_gupta_efficiency(Y_test, Y_pred)\n",
    "print(\n",
    "    f\"╔══════════════════════════╗\\n\"\n",
    "    f\"║   Métricas del modelo    ║\\n\"\n",
    "    f\"╠══════════════════════════╣\\n\"\n",
    "    f\"║ R²   : {r2:8.3f}        ║\\n\"\n",
    "    f\"║ RMSE : {rmse:8.3f}        ║\\n\"\n",
    "    f\"║ MAPE : {mape:8.2f} %     ║\\n\"\n",
    "    f\"║ KGE  : {kge:8.3f}        ║\\n\"\n",
    "    f\"╚══════════════════════════╝\"\n",
    ")"
   ]
  },
  {
   "cell_type": "code",
   "execution_count": 48,
   "id": "03d1bf14",
   "metadata": {},
   "outputs": [
    {
     "data": {
      "text/html": [
       "<div>\n",
       "<style scoped>\n",
       "    .dataframe tbody tr th:only-of-type {\n",
       "        vertical-align: middle;\n",
       "    }\n",
       "\n",
       "    .dataframe tbody tr th {\n",
       "        vertical-align: top;\n",
       "    }\n",
       "\n",
       "    .dataframe thead th {\n",
       "        text-align: right;\n",
       "    }\n",
       "</style>\n",
       "<table border=\"1\" class=\"dataframe\">\n",
       "  <thead>\n",
       "    <tr style=\"text-align: right;\">\n",
       "      <th></th>\n",
       "      <th>Variable</th>\n",
       "      <th>Importancia</th>\n",
       "    </tr>\n",
       "  </thead>\n",
       "  <tbody>\n",
       "    <tr>\n",
       "      <th>1</th>\n",
       "      <td>B12</td>\n",
       "      <td>0.384819</td>\n",
       "    </tr>\n",
       "    <tr>\n",
       "      <th>4</th>\n",
       "      <td>GCI</td>\n",
       "      <td>0.124906</td>\n",
       "    </tr>\n",
       "    <tr>\n",
       "      <th>2</th>\n",
       "      <td>lat</td>\n",
       "      <td>0.098074</td>\n",
       "    </tr>\n",
       "    <tr>\n",
       "      <th>3</th>\n",
       "      <td>lon</td>\n",
       "      <td>0.088865</td>\n",
       "    </tr>\n",
       "    <tr>\n",
       "      <th>6</th>\n",
       "      <td>elevation</td>\n",
       "      <td>0.060323</td>\n",
       "    </tr>\n",
       "    <tr>\n",
       "      <th>7</th>\n",
       "      <td>Slope</td>\n",
       "      <td>0.060000</td>\n",
       "    </tr>\n",
       "    <tr>\n",
       "      <th>9</th>\n",
       "      <td>B3</td>\n",
       "      <td>0.048620</td>\n",
       "    </tr>\n",
       "    <tr>\n",
       "      <th>8</th>\n",
       "      <td>NDVI</td>\n",
       "      <td>0.045363</td>\n",
       "    </tr>\n",
       "    <tr>\n",
       "      <th>0</th>\n",
       "      <td>B11</td>\n",
       "      <td>0.045252</td>\n",
       "    </tr>\n",
       "    <tr>\n",
       "      <th>5</th>\n",
       "      <td>B4</td>\n",
       "      <td>0.043779</td>\n",
       "    </tr>\n",
       "  </tbody>\n",
       "</table>\n",
       "</div>"
      ],
      "text/plain": [
       "    Variable  Importancia\n",
       "1        B12     0.384819\n",
       "4        GCI     0.124906\n",
       "2        lat     0.098074\n",
       "3        lon     0.088865\n",
       "6  elevation     0.060323\n",
       "7      Slope     0.060000\n",
       "9         B3     0.048620\n",
       "8       NDVI     0.045363\n",
       "0        B11     0.045252\n",
       "5         B4     0.043779"
      ]
     },
     "execution_count": 48,
     "metadata": {},
     "output_type": "execute_result"
    }
   ],
   "source": [
    "importance_df = pd.DataFrame({'Variable': variables_predictoras, 'Importancia': final_model_rf1.feature_importances_})\n",
    "\n",
    "importance_svr1= importance_df.sort_values(by='Importancia', ascending=False)\n",
    "\n",
    "importance_svr1"
   ]
  },
  {
   "cell_type": "code",
   "execution_count": 49,
   "id": "1108fab3",
   "metadata": {},
   "outputs": [
    {
     "data": {
      "text/plain": [
       "0.10000000000000002"
      ]
     },
     "execution_count": 49,
     "metadata": {},
     "output_type": "execute_result"
    }
   ],
   "source": [
    "importance_svr1[\"Importancia\"].mean()"
   ]
  },
  {
   "cell_type": "code",
   "execution_count": 50,
   "id": "e19bff59",
   "metadata": {},
   "outputs": [
    {
     "data": {
      "image/png": "[encoded data removed]",
      "text/plain": [
       "<Figure size 1000x600 with 1 Axes>"
      ]
     },
     "metadata": {},
     "output_type": "display_data"
    }
   ],
   "source": [
    "\n",
    "plt.figure(figsize=(10, 6))\n",
    "plt.barh(importance_svr1['Variable'], importance_svr1['Importancia'], color='skyblue')\n",
    "plt.xlabel('Importancia')\n",
    "plt.title('Importancia de las Variables (Feature Importance)')\n",
    "plt.gca().invert_yaxis()  # Para mostrar las variables más importantes en la parte superior\n",
    "plt.show()"
   ]
  }
 ],
 "metadata": {
  "kernelspec": {
   "display_name": "Python 3",
   "language": "python",
   "name": "python3"
  },
  "language_info": {
   "codemirror_mode": {
    "name": "ipython",
    "version": 3
   },
   "file_extension": ".py",
   "mimetype": "text/x-python",
   "name": "python",
   "nbconvert_exporter": "python",
   "pygments_lexer": "ipython3",
   "version": "3.11.4"
  }
 },
 "nbformat": 4,
 "nbformat_minor": 5
}
